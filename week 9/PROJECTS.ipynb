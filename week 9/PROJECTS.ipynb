{
 "cells": [
  {
   "cell_type": "code",
   "execution_count": 124,
   "id": "dbb1276c",
   "metadata": {},
   "outputs": [
    {
     "name": "stdout",
     "output_type": "stream",
     "text": [
      "Enter your name: Mary Evans\n",
      "Welcome Mr/Ms: Mary Evans\n",
      "Access granted \n",
      "Present or Absent: present\n",
      "Attendance taken \n",
      "Your task today:\n",
      "Delivering Items\n"
     ]
    }
   ],
   "source": [
    "#Project 1\n",
    "class Employee:\n",
    "    def __init__(self, name):\n",
    "        self.name = name\n",
    "        \n",
    "    def check_employee(self):\n",
    "        lyst = ['Mary Evans', 'Eyo Ishan', 'Durojaiye Dare', 'Adams Ali', 'Andrew Ugwu', 'Stella Makinde', 'Jane Akibo', 'Ago James', \n",
    "       'Mitchell Taiwo', 'Abraham Jones', 'Nicole Anide', 'Kosi Kosro', 'Adele Martins', 'Emmanuel Ojo', 'Ajayi Fatima' ]\n",
    "        \n",
    "      \n",
    "        if self.name in lyst:\n",
    "            print(\"Welcome Mr/Ms: {}\".format(self.name))\n",
    "            print(\"Access granted \")\n",
    "            return True\n",
    "        else:\n",
    "            return False\n",
    "           \n",
    "    def take_attendance(self):\n",
    "        attendance =input(\"Present or Absent: \")\n",
    "        if  attendance  == \"present\" :\n",
    "            print(\"Attendance taken \")\n",
    "            return True\n",
    "        else:\n",
    "            return False\n",
    "        \n",
    "    def assign_task(self):\n",
    "        import random\n",
    "        list1 = [\"Loading\", \"Transporting\", \"Reveiwing Orders\", \"Customer Service\", \"Delivering Items\"]\n",
    "        print(\"Your task today:\")\n",
    "        print(random.choice(list1))\n",
    "    \n",
    "    def refuse_access(self):\n",
    "        print('Access not granted')\n",
    "            \n",
    "            \n",
    "id = input(\"Enter your name: \")\n",
    "employ = Employee(id)\n",
    "if employ.check_employee() == True:\n",
    "    if employ.take_attendance() == True:\n",
    "        employ.assign_task()\n",
    "    else:\n",
    "        print('Have a good day')\n",
    "elif employ.check_employee() == False:\n",
    "    employ.refuse_access()\n",
    "        \n",
    "\n"
   ]
  },
  {
   "cell_type": "code",
   "execution_count": 136,
   "id": "bd638714",
   "metadata": {},
   "outputs": [
    {
     "name": "stdout",
     "output_type": "stream",
     "text": [
      "What is your package in kg?15\n",
      "Where do you want the package to be delivered to?epe\n",
      "Your charge is 5000 naira\n"
     ]
    }
   ],
   "source": [
    "#Project 2\n",
    "class delivery:\n",
    "    def __init__(self,location,weight):\n",
    "            self.location = location\n",
    "            self.weight = weight\n",
    "            \n",
    "    def price_calculation(self):\n",
    "            if self.location == \"pau\" and self.weight >= 10:\n",
    "                print(\"Your charge is 2000 naira\")\n",
    "            elif  self.location == \"pau\" and self.weight < 10:\n",
    "                print(\"Your charge is 1500 naira\")\n",
    "            elif  self.location == \"epe\" and self.weight >= 10:\n",
    "                print(\"Your charge is 5000 naira\")\n",
    "            elif  self.location == \"epe\" and self.weight < 10:\n",
    "                print(\"Your charge is 4000 naira\")\n",
    "            else:\n",
    "                print(\"Sorry, we do not do deliveries with your given specifications\")\n",
    "            \n",
    "packageweight = int(input(\"What is your package in kg?\"))\n",
    "packagelocation = (input(\"Where do you want the package to be delivered to?\"))\n",
    "prog = delivery(packagelocation,packageweight)\n",
    "prog. price_calculation()"
   ]
  },
  {
   "cell_type": "code",
   "execution_count": null,
   "id": "84f7ec1c",
   "metadata": {},
   "outputs": [],
   "source": []
  }
 ],
 "metadata": {
  "kernelspec": {
   "display_name": "Python 3 (ipykernel)",
   "language": "python",
   "name": "python3"
  },
  "language_info": {
   "codemirror_mode": {
    "name": "ipython",
    "version": 3
   },
   "file_extension": ".py",
   "mimetype": "text/x-python",
   "name": "python",
   "nbconvert_exporter": "python",
   "pygments_lexer": "ipython3",
   "version": "3.10.9"
  }
 },
 "nbformat": 4,
 "nbformat_minor": 5
}
