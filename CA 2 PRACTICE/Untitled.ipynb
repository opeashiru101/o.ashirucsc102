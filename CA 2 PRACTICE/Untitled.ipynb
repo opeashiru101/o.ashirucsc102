{
 "cells": [
  {
   "cell_type": "code",
   "execution_count": 2,
   "id": "f76523c7",
   "metadata": {},
   "outputs": [
    {
     "name": "stdout",
     "output_type": "stream",
     "text": [
      "What is your nameOla\n",
      "Name is unknown\n"
     ]
    }
   ],
   "source": [
    "#Conditional\n",
    "name = input(\"What is your name\")\n",
    "if name == \"Ope\":\n",
    "    print(\"Hello Ope\")\n",
    "else :\n",
    "    print(\"Name is unknown\")\n",
    "    "
   ]
  },
  {
   "cell_type": "code",
   "execution_count": 4,
   "id": "754ed4a4",
   "metadata": {},
   "outputs": [
    {
     "name": "stdout",
     "output_type": "stream",
     "text": [
      "What is your package in kg?15\n",
      "Where do you want the package to be delivered to?pau\n",
      "Your charge is 2000 naira\n"
     ]
    }
   ],
   "source": [
    "class delivery:\n",
    "    \n",
    "    def price_calculation(self):\n",
    "            if location == \"pau\" and weight >= 10:\n",
    "                print(\"Your charge is 2000 naira\")\n",
    "            elif  location == \"pau\" and weight < 10:\n",
    "                print(\"Your charge is 1500 naira\")\n",
    "            elif  location == \"epe\" and weight >= 10:\n",
    "                print(\"Your charge is 5000 naira\")\n",
    "            elif  location == \"epe\" and weight < 10:\n",
    "                print(\"Your charge is 4000 naira\")\n",
    "            else:\n",
    "                print(\"Sorry, we do not do deliveries with your given specifications\")\n",
    "            \n",
    "weight = int(input(\"What is your package in kg?\"))\n",
    "location = (input(\"Where do you want the package to be delivered to?\"))\n",
    "prog = delivery()\n",
    "prog. price_calculation()"
   ]
  },
  {
   "cell_type": "code",
   "execution_count": 6,
   "id": "f2d36a23",
   "metadata": {},
   "outputs": [
    {
     "name": "stdout",
     "output_type": "stream",
     "text": [
      "0\n",
      "1\n",
      "2\n",
      "3\n",
      "4\n"
     ]
    }
   ],
   "source": [
    "for i in range(10):\n",
    "    if i == 5:\n",
    "        break\n",
    "    else:\n",
    "        print(i)\n",
    "else:\n",
    "     print(\"Here\")"
   ]
  },
  {
   "cell_type": "code",
   "execution_count": 9,
   "id": "98f68fc1",
   "metadata": {},
   "outputs": [
    {
     "name": "stdout",
     "output_type": "stream",
     "text": [
      "0\n",
      "1\n",
      "2\n",
      "3\n"
     ]
    }
   ],
   "source": [
    "a = [0,1,2,3]\n",
    "for a[0]  in a :\n",
    "    print(a[0])"
   ]
  },
  {
   "cell_type": "code",
   "execution_count": 10,
   "id": "457cafec",
   "metadata": {},
   "outputs": [
    {
     "name": "stdout",
     "output_type": "stream",
     "text": [
      "9\n",
      "16\n"
     ]
    }
   ],
   "source": [
    "num = [1,2,4,6,11,20]\n",
    "sq = 0\n",
    "for val in range(3,5):\n",
    "    sq = val * val\n",
    "    print(sq)"
   ]
  },
  {
   "cell_type": "code",
   "execution_count": 11,
   "id": "7cfe189e",
   "metadata": {},
   "outputs": [
    {
     "name": "stdout",
     "output_type": "stream",
     "text": [
      "8\n",
      "6\n",
      "4\n"
     ]
    }
   ],
   "source": [
    "x = range(8,3,-2)\n",
    "for n in x:\n",
    "    print (n)"
   ]
  },
  {
   "cell_type": "code",
   "execution_count": 12,
   "id": "ce43f8fd",
   "metadata": {},
   "outputs": [
    {
     "name": "stdout",
     "output_type": "stream",
     "text": [
      "1\n",
      "4.5\n",
      "8.0\n"
     ]
    }
   ],
   "source": [
    "num = 1\n",
    "while num < 9 :\n",
    "    print(num)\n",
    "    num = num + 3.5"
   ]
  },
  {
   "cell_type": "code",
   "execution_count": 13,
   "id": "2a459fd3",
   "metadata": {},
   "outputs": [
    {
     "name": "stdout",
     "output_type": "stream",
     "text": [
      "8.6 is not in the code\n"
     ]
    }
   ],
   "source": [
    "def ginger_man(n):\n",
    "    if n in range (2,6):\n",
    "        print(n*4, \"is in the code\")\n",
    "    else:\n",
    "        print(n*2, \"is not in the code\")\n",
    "ginger_man(4.3)"
   ]
  },
  {
   "cell_type": "code",
   "execution_count": 1,
   "id": "92c996b6",
   "metadata": {},
   "outputs": [
    {
     "name": "stdout",
     "output_type": "stream",
     "text": [
      "How many students do you want to add?1\n",
      "Enter your name:Opemipo Athaliah Ashiru\n",
      "Enter your matric number:12345\n",
      "Enter your department:LAW\n",
      "Enter your level:100\n"
     ]
    },
    {
     "data": {
      "text/html": [
       "<div>\n",
       "<style scoped>\n",
       "    .dataframe tbody tr th:only-of-type {\n",
       "        vertical-align: middle;\n",
       "    }\n",
       "\n",
       "    .dataframe tbody tr th {\n",
       "        vertical-align: top;\n",
       "    }\n",
       "\n",
       "    .dataframe thead th {\n",
       "        text-align: right;\n",
       "    }\n",
       "</style>\n",
       "<table border=\"1\" class=\"dataframe\">\n",
       "  <thead>\n",
       "    <tr style=\"text-align: right;\">\n",
       "      <th></th>\n",
       "      <th>Name</th>\n",
       "      <th>Matric Number</th>\n",
       "      <th>Department</th>\n",
       "      <th>Level</th>\n",
       "    </tr>\n",
       "  </thead>\n",
       "  <tbody>\n",
       "    <tr>\n",
       "      <th>0</th>\n",
       "      <td>Opemipo Athaliah Ashiru</td>\n",
       "      <td>12345</td>\n",
       "      <td>LAW</td>\n",
       "      <td>100</td>\n",
       "    </tr>\n",
       "  </tbody>\n",
       "</table>\n",
       "</div>"
      ],
      "text/plain": [
       "                      Name Matric Number Department  Level\n",
       "0  Opemipo Athaliah Ashiru         12345        LAW    100"
      ]
     },
     "execution_count": 1,
     "metadata": {},
     "output_type": "execute_result"
    }
   ],
   "source": [
    "import pandas as pd\n",
    "name = []\n",
    "matric_no = []\n",
    "department = []\n",
    "level = []\n",
    "        \n",
    "student_number = int(input(\"How many students do you want to add?\")) \n",
    "        \n",
    "for x in range(student_number):\n",
    "    Name = input(\"Enter your name:\")\n",
    "    Matric_no = input(\"Enter your matric number:\")\n",
    "    Department = input(\"Enter your department:\")\n",
    "    Level = int(input(\"Enter your level:\"))\n",
    "    name.append(Name)\n",
    "    matric_no.append(Matric_no)\n",
    "    department.append(Department)\n",
    "    level.append(Level)\n",
    "    \n",
    "data = {\"Name\" : name, \"Matric Number\": matric_no, \"Department\" : department, \"Level\": level}\n",
    "df = pd.DataFrame(data)\n",
    "df.to_csv(\"PAU-SMIS.csv\")\n",
    "df"
   ]
  },
  {
   "cell_type": "code",
   "execution_count": null,
   "id": "70b5dd08",
   "metadata": {},
   "outputs": [],
   "source": [
    "import pandas as pd\n",
    "\n",
    "class smis():\n",
    "    \n",
    "    def info(self):\n",
    "        name = []\n",
    "        matric_no = []\n",
    "        department = []\n",
    "        level = []\n",
    "        \n",
    "        student_number = int(input(\"How many students do you want to add?\")) \n",
    "        \n",
    "        for x in range(student_number):\n",
    "            Name = input(\"Enter your name:\")\n",
    "            Matric_no = input(\"Enter your matric number:\")\n",
    "            Department = input(\"Enter your department:\")\n",
    "            Level = int(input(\"Enter your level:\"))\n",
    "            name.append(Name)\n",
    "            matric_no.append(Matric_no)\n",
    "            department.append(Department)\n",
    "            level.append(Level)\n",
    "            \n",
    "        data = {\"Name\" : name, \"Matric Number\": matric_no, \"Department\" : department, \"Level\": level}\n",
    "        df = pd.DataFrame(data)\n",
    "        df.to_csv(\"PAU-SMIS.csv\")\n",
    "        df\n",
    "        \n",
    "answer = input(\"Would you like to access SMIS?\")\n",
    "pau = smis()\n",
    "if answer == \"yes\":\n",
    "    pau.info()\n",
    "elif answer == \"no\":\n",
    "    print(\"OK, Have a good day\")\n",
    "else:\n",
    "    print(\"Invalid data\")\n"
   ]
  }
 ],
 "metadata": {
  "kernelspec": {
   "display_name": "Python 3 (ipykernel)",
   "language": "python",
   "name": "python3"
  },
  "language_info": {
   "codemirror_mode": {
    "name": "ipython",
    "version": 3
   },
   "file_extension": ".py",
   "mimetype": "text/x-python",
   "name": "python",
   "nbconvert_exporter": "python",
   "pygments_lexer": "ipython3",
   "version": "3.10.9"
  }
 },
 "nbformat": 4,
 "nbformat_minor": 5
}
