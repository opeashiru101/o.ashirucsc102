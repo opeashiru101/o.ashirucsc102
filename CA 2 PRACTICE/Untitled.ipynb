{
 "cells": [
  {
   "cell_type": "code",
   "execution_count": 2,
   "id": "f76523c7",
   "metadata": {},
   "outputs": [
    {
     "name": "stdout",
     "output_type": "stream",
     "text": [
      "What is your nameOla\n",
      "Name is unknown\n"
     ]
    }
   ],
   "source": [
    "#Conditional\n",
    "name = input(\"What is your name\")\n",
    "if name == \"Ope\":\n",
    "    print(\"Hello Ope\")\n",
    "else :\n",
    "    print(\"Name is unknown\")\n",
    "    "
   ]
  },
  {
   "cell_type": "code",
   "execution_count": 1,
   "id": "bed694ae",
   "metadata": {},
   "outputs": [
    {
     "name": "stdout",
     "output_type": "stream",
     "text": [
      "SUV\n"
     ]
    }
   ],
   "source": [
    "vehicles = ['Sport Car','Convertible','Wagon','SUV','Truck']\n",
    "i = 3\n",
    "while i < len(vehicles):\n",
    "    print(vehicles[i])\n",
    "    i += 2"
   ]
  },
  {
   "cell_type": "code",
   "execution_count": 2,
   "id": "754ed4a4",
   "metadata": {},
   "outputs": [
    {
     "ename": "KeyboardInterrupt",
     "evalue": "Interrupted by user",
     "output_type": "error",
     "traceback": [
      "\u001b[1;31m---------------------------------------------------------------------------\u001b[0m",
      "\u001b[1;31mKeyboardInterrupt\u001b[0m                         Traceback (most recent call last)",
      "Input \u001b[1;32mIn [2]\u001b[0m, in \u001b[0;36m<cell line: 15>\u001b[1;34m()\u001b[0m\n\u001b[0;32m     12\u001b[0m             \u001b[38;5;28;01melse\u001b[39;00m:\n\u001b[0;32m     13\u001b[0m                 \u001b[38;5;28mprint\u001b[39m(\u001b[38;5;124m\"\u001b[39m\u001b[38;5;124mSorry, we do not do deliveries with your given specifications\u001b[39m\u001b[38;5;124m\"\u001b[39m)\n\u001b[1;32m---> 15\u001b[0m weight \u001b[38;5;241m=\u001b[39m \u001b[38;5;28mint\u001b[39m(\u001b[38;5;28;43minput\u001b[39;49m\u001b[43m(\u001b[49m\u001b[38;5;124;43m\"\u001b[39;49m\u001b[38;5;124;43mWhat is your package in kg?\u001b[39;49m\u001b[38;5;124;43m\"\u001b[39;49m\u001b[43m)\u001b[49m)\n\u001b[0;32m     16\u001b[0m location \u001b[38;5;241m=\u001b[39m (\u001b[38;5;28minput\u001b[39m(\u001b[38;5;124m\"\u001b[39m\u001b[38;5;124mWhere do you want the package to be delivered to?\u001b[39m\u001b[38;5;124m\"\u001b[39m))\n\u001b[0;32m     17\u001b[0m prog \u001b[38;5;241m=\u001b[39m delivery()\n",
      "File \u001b[1;32m~\\anaconda3\\lib\\site-packages\\ipykernel\\kernelbase.py:1075\u001b[0m, in \u001b[0;36mKernel.raw_input\u001b[1;34m(self, prompt)\u001b[0m\n\u001b[0;32m   1071\u001b[0m \u001b[38;5;28;01mif\u001b[39;00m \u001b[38;5;129;01mnot\u001b[39;00m \u001b[38;5;28mself\u001b[39m\u001b[38;5;241m.\u001b[39m_allow_stdin:\n\u001b[0;32m   1072\u001b[0m     \u001b[38;5;28;01mraise\u001b[39;00m StdinNotImplementedError(\n\u001b[0;32m   1073\u001b[0m         \u001b[38;5;124m\"\u001b[39m\u001b[38;5;124mraw_input was called, but this frontend does not support input requests.\u001b[39m\u001b[38;5;124m\"\u001b[39m\n\u001b[0;32m   1074\u001b[0m     )\n\u001b[1;32m-> 1075\u001b[0m \u001b[38;5;28;01mreturn\u001b[39;00m \u001b[38;5;28;43mself\u001b[39;49m\u001b[38;5;241;43m.\u001b[39;49m\u001b[43m_input_request\u001b[49m\u001b[43m(\u001b[49m\n\u001b[0;32m   1076\u001b[0m \u001b[43m    \u001b[49m\u001b[38;5;28;43mstr\u001b[39;49m\u001b[43m(\u001b[49m\u001b[43mprompt\u001b[49m\u001b[43m)\u001b[49m\u001b[43m,\u001b[49m\n\u001b[0;32m   1077\u001b[0m \u001b[43m    \u001b[49m\u001b[38;5;28;43mself\u001b[39;49m\u001b[38;5;241;43m.\u001b[39;49m\u001b[43m_parent_ident\u001b[49m\u001b[43m[\u001b[49m\u001b[38;5;124;43m\"\u001b[39;49m\u001b[38;5;124;43mshell\u001b[39;49m\u001b[38;5;124;43m\"\u001b[39;49m\u001b[43m]\u001b[49m\u001b[43m,\u001b[49m\n\u001b[0;32m   1078\u001b[0m \u001b[43m    \u001b[49m\u001b[38;5;28;43mself\u001b[39;49m\u001b[38;5;241;43m.\u001b[39;49m\u001b[43mget_parent\u001b[49m\u001b[43m(\u001b[49m\u001b[38;5;124;43m\"\u001b[39;49m\u001b[38;5;124;43mshell\u001b[39;49m\u001b[38;5;124;43m\"\u001b[39;49m\u001b[43m)\u001b[49m\u001b[43m,\u001b[49m\n\u001b[0;32m   1079\u001b[0m \u001b[43m    \u001b[49m\u001b[43mpassword\u001b[49m\u001b[38;5;241;43m=\u001b[39;49m\u001b[38;5;28;43;01mFalse\u001b[39;49;00m\u001b[43m,\u001b[49m\n\u001b[0;32m   1080\u001b[0m \u001b[43m\u001b[49m\u001b[43m)\u001b[49m\n",
      "File \u001b[1;32m~\\anaconda3\\lib\\site-packages\\ipykernel\\kernelbase.py:1120\u001b[0m, in \u001b[0;36mKernel._input_request\u001b[1;34m(self, prompt, ident, parent, password)\u001b[0m\n\u001b[0;32m   1117\u001b[0m             \u001b[38;5;28;01mbreak\u001b[39;00m\n\u001b[0;32m   1118\u001b[0m \u001b[38;5;28;01mexcept\u001b[39;00m \u001b[38;5;167;01mKeyboardInterrupt\u001b[39;00m:\n\u001b[0;32m   1119\u001b[0m     \u001b[38;5;66;03m# re-raise KeyboardInterrupt, to truncate traceback\u001b[39;00m\n\u001b[1;32m-> 1120\u001b[0m     \u001b[38;5;28;01mraise\u001b[39;00m \u001b[38;5;167;01mKeyboardInterrupt\u001b[39;00m(\u001b[38;5;124m\"\u001b[39m\u001b[38;5;124mInterrupted by user\u001b[39m\u001b[38;5;124m\"\u001b[39m) \u001b[38;5;28;01mfrom\u001b[39;00m \u001b[38;5;28mNone\u001b[39m\n\u001b[0;32m   1121\u001b[0m \u001b[38;5;28;01mexcept\u001b[39;00m \u001b[38;5;167;01mException\u001b[39;00m:\n\u001b[0;32m   1122\u001b[0m     \u001b[38;5;28mself\u001b[39m\u001b[38;5;241m.\u001b[39mlog\u001b[38;5;241m.\u001b[39mwarning(\u001b[38;5;124m\"\u001b[39m\u001b[38;5;124mInvalid Message:\u001b[39m\u001b[38;5;124m\"\u001b[39m, exc_info\u001b[38;5;241m=\u001b[39m\u001b[38;5;28;01mTrue\u001b[39;00m)\n",
      "\u001b[1;31mKeyboardInterrupt\u001b[0m: Interrupted by user"
     ]
    }
   ],
   "source": [
    "class delivery:\n",
    "    \n",
    "    def price_calculation(self):\n",
    "            if location == \"pau\" and weight >= 10:\n",
    "                print(\"Your charge is 2000 naira\")\n",
    "            elif  location == \"pau\" and weight < 10:\n",
    "                print(\"Your charge is 1500 naira\")\n",
    "            elif  location == \"epe\" and weight >= 10:\n",
    "                print(\"Your charge is 5000 naira\")\n",
    "            elif  location == \"epe\" and weight < 10:\n",
    "                print(\"Your charge is 4000 naira\")\n",
    "            else:\n",
    "                print(\"Sorry, we do not do deliveries with your given specifications\")\n",
    "            \n",
    "weight = int(input(\"What is your package in kg?\"))\n",
    "location = (input(\"Where do you want the package to be delivered to?\"))\n",
    "prog = delivery()\n",
    "prog. price_calculation()"
   ]
  },
  {
   "cell_type": "code",
   "execution_count": 6,
   "id": "f2d36a23",
   "metadata": {},
   "outputs": [
    {
     "name": "stdout",
     "output_type": "stream",
     "text": [
      "0\n",
      "1\n",
      "2\n",
      "3\n",
      "4\n"
     ]
    }
   ],
   "source": [
    "for i in range(10):\n",
    "    if i == 5:\n",
    "        break\n",
    "    else:\n",
    "        print(i)\n",
    "else:\n",
    "     print(\"Here\")"
   ]
  },
  {
   "cell_type": "code",
   "execution_count": 3,
   "id": "2bc9bc74",
   "metadata": {},
   "outputs": [
    {
     "name": "stdout",
     "output_type": "stream",
     "text": [
      "1\n",
      "81\n"
     ]
    }
   ],
   "source": [
    "def printDict():\n",
    "    d = dict()\n",
    "    for i in range(1,12,8):\n",
    "        d[i] = i ** 2\n",
    "        print(d[i])\n",
    "        \n",
    "printDict()"
   ]
  },
  {
   "cell_type": "code",
   "execution_count": 9,
   "id": "98f68fc1",
   "metadata": {},
   "outputs": [
    {
     "name": "stdout",
     "output_type": "stream",
     "text": [
      "0\n",
      "1\n",
      "2\n",
      "3\n"
     ]
    }
   ],
   "source": [
    "a = [0,1,2,3]\n",
    "for a[0]  in a :\n",
    "    print(a[0])"
   ]
  },
  {
   "cell_type": "code",
   "execution_count": null,
   "id": "6f3fc90b",
   "metadata": {},
   "outputs": [],
   "source": [
    "from array import *\n",
    "Play = "
   ]
  },
  {
   "cell_type": "code",
   "execution_count": 10,
   "id": "457cafec",
   "metadata": {},
   "outputs": [
    {
     "name": "stdout",
     "output_type": "stream",
     "text": [
      "9\n",
      "16\n"
     ]
    }
   ],
   "source": [
    "num = [1,2,4,6,11,20]\n",
    "sq = 0\n",
    "for val in range(3,5):\n",
    "    sq = val * val\n",
    "    print(sq)"
   ]
  },
  {
   "cell_type": "code",
   "execution_count": 11,
   "id": "7cfe189e",
   "metadata": {},
   "outputs": [
    {
     "name": "stdout",
     "output_type": "stream",
     "text": [
      "8\n",
      "6\n",
      "4\n"
     ]
    }
   ],
   "source": [
    "x = range(8,3,-2)\n",
    "for n in x:\n",
    "    print (n)"
   ]
  },
  {
   "cell_type": "code",
   "execution_count": 12,
   "id": "ce43f8fd",
   "metadata": {},
   "outputs": [
    {
     "name": "stdout",
     "output_type": "stream",
     "text": [
      "1\n",
      "4.5\n",
      "8.0\n"
     ]
    }
   ],
   "source": [
    "num = 1\n",
    "while num < 9 :\n",
    "    print(num)\n",
    "    num = num + 3.5"
   ]
  },
  {
   "cell_type": "code",
   "execution_count": 13,
   "id": "2a459fd3",
   "metadata": {},
   "outputs": [
    {
     "name": "stdout",
     "output_type": "stream",
     "text": [
      "8.6 is not in the code\n"
     ]
    }
   ],
   "source": [
    "def ginger_man(n):\n",
    "    if n in range (2,6):\n",
    "        print(n*4, \"is in the code\")\n",
    "    else:\n",
    "        print(n*2, \"is not in the code\")\n",
    "ginger_man(4.3)"
   ]
  },
  {
   "cell_type": "code",
   "execution_count": 1,
   "id": "92c996b6",
   "metadata": {},
   "outputs": [
    {
     "name": "stdout",
     "output_type": "stream",
     "text": [
      "How many students do you want to add?1\n",
      "Enter your name:Opemipo Athaliah Ashiru\n",
      "Enter your matric number:12345\n",
      "Enter your department:LAW\n",
      "Enter your level:100\n"
     ]
    },
    {
     "data": {
      "text/html": [
       "<div>\n",
       "<style scoped>\n",
       "    .dataframe tbody tr th:only-of-type {\n",
       "        vertical-align: middle;\n",
       "    }\n",
       "\n",
       "    .dataframe tbody tr th {\n",
       "        vertical-align: top;\n",
       "    }\n",
       "\n",
       "    .dataframe thead th {\n",
       "        text-align: right;\n",
       "    }\n",
       "</style>\n",
       "<table border=\"1\" class=\"dataframe\">\n",
       "  <thead>\n",
       "    <tr style=\"text-align: right;\">\n",
       "      <th></th>\n",
       "      <th>Name</th>\n",
       "      <th>Matric Number</th>\n",
       "      <th>Department</th>\n",
       "      <th>Level</th>\n",
       "    </tr>\n",
       "  </thead>\n",
       "  <tbody>\n",
       "    <tr>\n",
       "      <th>0</th>\n",
       "      <td>Opemipo Athaliah Ashiru</td>\n",
       "      <td>12345</td>\n",
       "      <td>LAW</td>\n",
       "      <td>100</td>\n",
       "    </tr>\n",
       "  </tbody>\n",
       "</table>\n",
       "</div>"
      ],
      "text/plain": [
       "                      Name Matric Number Department  Level\n",
       "0  Opemipo Athaliah Ashiru         12345        LAW    100"
      ]
     },
     "execution_count": 1,
     "metadata": {},
     "output_type": "execute_result"
    }
   ],
   "source": [
    "import pandas as pd\n",
    "name = []\n",
    "matric_no = []\n",
    "department = []\n",
    "level = []\n",
    "        \n",
    "student_number = int(input(\"How many students do you want to add?\")) \n",
    "        \n",
    "for x in range(student_number):\n",
    "    Name = input(\"Enter your name:\")\n",
    "    Matric_no = input(\"Enter your matric number:\")\n",
    "    Department = input(\"Enter your department:\")\n",
    "    Level = int(input(\"Enter your level:\"))\n",
    "    name.append(Name)\n",
    "    matric_no.append(Matric_no)\n",
    "    department.append(Department)\n",
    "    level.append(Level)\n",
    "    \n",
    "data = {\"Name\" : name, \"Matric Number\": matric_no, \"Department\" : department, \"Level\": level}\n",
    "df = pd.DataFrame(data)\n",
    "df.to_csv(\"PAU-SMIS.csv\")\n",
    "df"
   ]
  },
  {
   "cell_type": "code",
   "execution_count": null,
   "id": "70b5dd08",
   "metadata": {},
   "outputs": [],
   "source": [
    "import pandas as pd\n",
    "\n",
    "class smis():\n",
    "    def info(self):\n",
    "        name = []\n",
    "        matric_no = []\n",
    "        department = []\n",
    "        level = []\n",
    "        \n",
    "        student_number = int(input(\"How many students do you want to add?\")) \n",
    "        \n",
    "        for x in range(student_number):\n",
    "            Name = input(\"Enter your name:\")\n",
    "            Matric_no = input(\"Enter your matric number:\")\n",
    "            Department = input(\"Enter your department:\")\n",
    "            Level = int(input(\"Enter your level:\"))\n",
    "            name.append(Name)\n",
    "            matric_no.append(Matric_no)\n",
    "            department.append(Department)\n",
    "            level.append(Level)\n",
    "            \n",
    "        data = {\"Name\" : name, \"Matric Number\": matric_no, \"Department\" : department, \"Level\": level}\n",
    "        df = pd.DataFrame(data)\n",
    "        df.to_csv(\"PAU-SMIS.csv\")\n",
    "        df\n",
    "        \n",
    "answer = input(\"Would you like to access SMIS?\")\n",
    "pau = smis()\n",
    "if answer == \"yes\":\n",
    "    pau.info()\n",
    "elif answer == \"no\":\n",
    "    print(\"OK, Have a good day\")\n",
    "else:\n",
    "    print(\"Invalid data\")\n"
   ]
  }
 ],
 "metadata": {
  "kernelspec": {
   "display_name": "Python 3 (ipykernel)",
   "language": "python",
   "name": "python3"
  },
  "language_info": {
   "codemirror_mode": {
    "name": "ipython",
    "version": 3
   },
   "file_extension": ".py",
   "mimetype": "text/x-python",
   "name": "python",
   "nbconvert_exporter": "python",
   "pygments_lexer": "ipython3",
   "version": "3.9.12"
  }
 },
 "nbformat": 4,
 "nbformat_minor": 5
}
