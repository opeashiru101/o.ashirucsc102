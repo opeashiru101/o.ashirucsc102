{
 "cells": [
  {
   "cell_type": "code",
   "execution_count": null,
   "id": "18f61b7e",
   "metadata": {},
   "outputs": [],
   "source": [
    "#Project1\n",
    "def employee(name,department):\n",
    "    \n",
    "    return \n",
    "name = str(input(\"Enter your name: \"));\n",
    "department = str(input(\"Enter your department: \"))\n",
    "employee(name,department)\n",
    "\n",
    "import pandas as pd\n",
    "df = pd.read_csv(\"jt-ventures.csv\")\n",
    "df[[\"Department\"]]"
   ]
  },
  {
   "cell_type": "code",
   "execution_count": null,
   "id": "dd147d96",
   "metadata": {},
   "outputs": [],
   "source": []
  }
 ],
 "metadata": {
  "kernelspec": {
   "display_name": "Python 3 (ipykernel)",
   "language": "python",
   "name": "python3"
  },
  "language_info": {
   "codemirror_mode": {
    "name": "ipython",
    "version": 3
   },
   "file_extension": ".py",
   "mimetype": "text/x-python",
   "name": "python",
   "nbconvert_exporter": "python",
   "pygments_lexer": "ipython3",
   "version": "3.10.9"
  }
 },
 "nbformat": 4,
 "nbformat_minor": 5
}
