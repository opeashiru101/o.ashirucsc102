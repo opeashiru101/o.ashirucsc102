{
 "cells": [
  {
   "cell_type": "code",
   "execution_count": 24,
   "id": "18f61b7e",
   "metadata": {},
   "outputs": [
    {
     "name": "stdout",
     "output_type": "stream",
     "text": [
      "What is your name:GIWA\n",
      "What is your department:Logistics\n"
     ]
    }
   ],
   "source": [
    "#Project1\n",
    "import pandas as pd\n",
    "data = pd.read_csv(\"jt-ventures.csv\")\n",
    "\n",
    "def info(name, department):\n",
    "    name = input(\"What is your name:\")\n",
    "    department = input(\"What is your department:\")\n",
    "    \n",
    "    for i in range(len(df[\"FIRST NAME\"] ),len(df[\"DEPARTMENT\"])):\n",
    "        if name == df[\"FIRST NAME\"] and department == df[\"DEPARTMENT\"]:\n",
    "            print(\"Welcome to JT Ventures\")\n",
    "            print(data)\n",
    "        else:\n",
    "            print(\"Employee does not exist\")\n",
    "info(name,department);"
   ]
  },
  {
   "cell_type": "code",
   "execution_count": null,
   "id": "dd147d96",
   "metadata": {},
   "outputs": [],
   "source": []
  }
 ],
 "metadata": {
  "kernelspec": {
   "display_name": "Python 3 (ipykernel)",
   "language": "python",
   "name": "python3"
  },
  "language_info": {
   "codemirror_mode": {
    "name": "ipython",
    "version": 3
   },
   "file_extension": ".py",
   "mimetype": "text/x-python",
   "name": "python",
   "nbconvert_exporter": "python",
   "pygments_lexer": "ipython3",
   "version": "3.10.9"
  }
 },
 "nbformat": 4,
 "nbformat_minor": 5
}
