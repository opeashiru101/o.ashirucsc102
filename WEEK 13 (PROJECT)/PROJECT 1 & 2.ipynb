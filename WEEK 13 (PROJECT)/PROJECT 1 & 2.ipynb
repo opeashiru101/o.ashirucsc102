{
 "cells": [
  {
   "cell_type": "code",
   "execution_count": 20,
   "id": "2e575f7f",
   "metadata": {},
   "outputs": [
    {
     "name": "stdout",
     "output_type": "stream",
     "text": [
      "Hello, Would you like to have the companies' data on your device?yes\n",
      "File Created\n"
     ]
    }
   ],
   "source": [
    "#PROJECT 2\n",
    "import pandas as pd\n",
    "class Company():\n",
    "    def Finance(self):\n",
    "        comp_data = {\"COMPANY\":[\"Enron\",\"Anderson\",\"GK Jones\",\"Mica\",\"Dune\"] ,\n",
    "             \"COMPANY'S SHARES\":[\"1,000,000\",\"1,500,000\",\"3,000,000\",\"250,000\",\"800,000\"],\n",
    "             \"COMPANY'S LIABILITY\":[\"200,000\",\"500,000\",\"1,500,000\",\"50,000\",\"300,000\"],\n",
    "             \"FOUNDING DATES\" : [1987,1936,2001,1996,2008],\n",
    "             \"PERCENTAGE LEVERAGE\": [\"0.8\",\"0.7\",\"0.5\",\"0.8\",\"0.6\"] }\n",
    "        df = pd.DataFrame(comp_data)\n",
    "        df.to_csv('companies_data.csv')\n",
    "        print(\"File Created\")\n",
    "\n",
    "answer = input(\"Hello, Would you like to have the companies' data on your device?\")\n",
    "cd = Company()\n",
    "if answer == \"yes\":\n",
    "    cd.Finance()\n",
    "elif answer == \"no\":\n",
    "    print(\"OK, Have a good day\")\n",
    "else:\n",
    "    print(\"Invalid data\")\n",
    "    "
   ]
  },
  {
   "cell_type": "code",
   "execution_count": 18,
   "id": "2f95276a",
   "metadata": {},
   "outputs": [
    {
     "name": "stdout",
     "output_type": "stream",
     "text": [
      "How many students do you want to add?3\n",
      "Enter your name:OPE ASHIRU\n",
      "Enter your matric number:123456\n",
      "Enter your department:LAW\n",
      "Enter your level:100\n",
      "Enter your name:ADE BENSON\n",
      "Enter your matric number:128904\n",
      "Enter your department:ECONOMICS\n",
      "Enter your level:300\n",
      "Enter your name:LAYLA KING\n",
      "Enter your matric number:2365885\n",
      "Enter your department:CHEMISTRY\n",
      "Enter your level:400\n"
     ]
    },
    {
     "data": {
      "text/html": [
       "<div>\n",
       "<style scoped>\n",
       "    .dataframe tbody tr th:only-of-type {\n",
       "        vertical-align: middle;\n",
       "    }\n",
       "\n",
       "    .dataframe tbody tr th {\n",
       "        vertical-align: top;\n",
       "    }\n",
       "\n",
       "    .dataframe thead th {\n",
       "        text-align: right;\n",
       "    }\n",
       "</style>\n",
       "<table border=\"1\" class=\"dataframe\">\n",
       "  <thead>\n",
       "    <tr style=\"text-align: right;\">\n",
       "      <th></th>\n",
       "      <th>Name</th>\n",
       "      <th>Matric Number</th>\n",
       "      <th>Department</th>\n",
       "      <th>Level</th>\n",
       "    </tr>\n",
       "  </thead>\n",
       "  <tbody>\n",
       "    <tr>\n",
       "      <th>0</th>\n",
       "      <td>OPE ASHIRU</td>\n",
       "      <td>123456</td>\n",
       "      <td>LAW</td>\n",
       "      <td>100</td>\n",
       "    </tr>\n",
       "    <tr>\n",
       "      <th>1</th>\n",
       "      <td>ADE BENSON</td>\n",
       "      <td>128904</td>\n",
       "      <td>ECONOMICS</td>\n",
       "      <td>300</td>\n",
       "    </tr>\n",
       "    <tr>\n",
       "      <th>2</th>\n",
       "      <td>LAYLA KING</td>\n",
       "      <td>2365885</td>\n",
       "      <td>CHEMISTRY</td>\n",
       "      <td>400</td>\n",
       "    </tr>\n",
       "  </tbody>\n",
       "</table>\n",
       "</div>"
      ],
      "text/plain": [
       "         Name Matric Number Department  Level\n",
       "0  OPE ASHIRU        123456        LAW    100\n",
       "1  ADE BENSON        128904  ECONOMICS    300\n",
       "2  LAYLA KING       2365885  CHEMISTRY    400"
      ]
     },
     "execution_count": 18,
     "metadata": {},
     "output_type": "execute_result"
    }
   ],
   "source": [
    "#PROJECT 1\n",
    "import pandas as pd\n",
    "name = []\n",
    "matric_no = []\n",
    "department = []\n",
    "level = []\n",
    "        \n",
    "student_number = int(input(\"How many students do you want to add?\")) \n",
    "        \n",
    "for x in range(student_number):\n",
    "    Name = input(\"Enter your name:\")\n",
    "    Matric_no = input(\"Enter your matric number:\")\n",
    "    Department = input(\"Enter your department:\")\n",
    "    Level = int(input(\"Enter your level:\"))\n",
    "    name.append(Name)\n",
    "    matric_no.append(Matric_no)\n",
    "    department.append(Department)\n",
    "    level.append(Level)\n",
    "    \n",
    "data = {\"Name\" : name, \"Matric Number\": matric_no, \"Department\" : department, \"Level\": level}\n",
    "df = pd.DataFrame(data)\n",
    "df.to_csv(\"PAU-SMIS.csv\")\n",
    "df"
   ]
  },
  {
   "cell_type": "code",
   "execution_count": null,
   "id": "dc3cc89e",
   "metadata": {},
   "outputs": [],
   "source": []
  }
 ],
 "metadata": {
  "kernelspec": {
   "display_name": "Python 3 (ipykernel)",
   "language": "python",
   "name": "python3"
  },
  "language_info": {
   "codemirror_mode": {
    "name": "ipython",
    "version": 3
   },
   "file_extension": ".py",
   "mimetype": "text/x-python",
   "name": "python",
   "nbconvert_exporter": "python",
   "pygments_lexer": "ipython3",
   "version": "3.10.9"
  }
 },
 "nbformat": 4,
 "nbformat_minor": 5
}
