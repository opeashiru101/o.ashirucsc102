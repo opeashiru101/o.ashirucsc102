{
 "cells": [
  {
   "cell_type": "code",
   "execution_count": 89,
   "id": "01eb8da0",
   "metadata": {},
   "outputs": [
    {
     "name": "stdout",
     "output_type": "stream",
     "text": [
      "This is your table:\n",
      "Name    |Age|Height|Score|\n",
      "Samantha| 17|5.5  |80 |\n",
      "Jada    |  16|6.0 |85 |\n",
      "Jane    |  17|5.4 |70 |\n",
      "Claire  | 18|5.9|60   |\n",
      "Eliza   | 16|5.6| 76  |\n",
      "Mary    | 16|5.5|66   |\n",
      "Susan   |  18|6.1|87  |\n",
      "Waje    | 17|6.0|95   |\n",
      "Taibat  | 19|5.750    |\n",
      "Lilian  | 175.5|49    |\n",
      "Charles | 19|5.7|74   |\n",
      "Jude    |  16|5.9|87  |\n",
      "James   |  18|5.8|75  |\n",
      "Kelvin  | 16|6.1|68   |\n",
      "Biodun  | 18|5.9 | 66 |\n",
      "Wale    | 17|5.6|68   |\n",
      "Kunle   |  17|5.4|87  |\n",
      "Kayode  | 20|5.8|78   |\n",
      "Matthew | 18|5.7|98   |\n",
      "Tom     | 19|5.9|54   |\n"
     ]
    }
   ],
   "source": [
    "#Project1\n",
    "print(\"This is your table:\")\n",
    "\n",
    "print(\"Name    |Age|Height|Score|\")\n",
    "\n",
    "girls= {\"Samantha|\": \"17|\" \"5.5  |\"  \"80 |\", \"Jada    | \" : \"16|\" \"6.0 |\" \"85 |\", \"Jane    | \" : \"17|\"  \"5.4 |\"  \"70 |\",\n",
    "      \"Claire  |\" :\"18|\" \"5.9|\"  \"60   |\" , \"Eliza   |\" : \"16|\" \"5.6|\" \" 76  |\", \"Mary    |\": \"16|\" \"5.5|\" \"66   |\", \"Susan   | \": \"18|\" \"6.1|\"\n",
    "       \"87  |\" , \"Waje    |\" :\"17|\" \"6.0|\" \"95   |\", \"Taibat  |\" : \"19|\" \"5.7\" \"50    |\", \"Lilian  |\" : \"17\" \"5.5|\" \"49    |\"}\n",
    "for pick in girls:\n",
    "    print(pick,girls[pick])\n",
    "    \n",
    "boys= {\"Charles |\": \"19|\" \"5.7|\" \"74   |\", \"Jude    | \" : \"16|\" \"5.9|\" \"87  |\", \"James   | \" : \"18|\"  \"5.8|\"  \"75  |\",\n",
    "      \"Kelvin  |\" :\"16|\" \"6.1|\"  \"68   |\" , \"Biodun  |\" : \"18|\" \"5.9 |\" \" 66 |\", \"Wale    |\": \"17|\" \"5.6|\" \"68   |\", \"Kunle   | \": \"17|\" \"5.4|\"\n",
    "       \"87  |\" , \"Kayode  |\" :\"20|\" \"5.8|\" \"78   |\", \"Matthew |\" : \"18|\" \"5.7|\" \"98   |\", \"Tom     |\" : \"19|\" \"5.9|\" \"54   |\"}\n",
    "for pick in boys:\n",
    "        print(pick,boys[pick])\n",
    "\n"
   ]
  },
  {
   "cell_type": "code",
   "execution_count": null,
   "id": "dc6d6558",
   "metadata": {},
   "outputs": [],
   "source": [
    "#Project2\n",
    "e = int(input(\"Enter your years of experience: \"))\n",
    "a = int(input(\"Enter your age: \"))\n",
    "if e >= 25 and a >= 55:\n",
    "    print(\"Annual tax revenues is 5,600,000\")\n",
    "if e > 20 and a >= 45:\n",
    "    print(\"Annual tax revenues is 4,480,000\")\n",
    "if e > 10 and a >= 35:\n",
    "    print(\"Annual tax revenues is 1,500,000\")\n",
    "if e < 10 and a < 35:\n",
    "    print(\"Annual tax revenues is 550,000\")"
   ]
  },
  {
   "cell_type": "code",
   "execution_count": null,
   "id": "261ed2fd",
   "metadata": {},
   "outputs": [],
   "source": []
  },
  {
   "cell_type": "code",
   "execution_count": null,
   "id": "8ad98879",
   "metadata": {},
   "outputs": [],
   "source": []
  }
 ],
 "metadata": {
  "kernelspec": {
   "display_name": "Python 3 (ipykernel)",
   "language": "python",
   "name": "python3"
  },
  "language_info": {
   "codemirror_mode": {
    "name": "ipython",
    "version": 3
   },
   "file_extension": ".py",
   "mimetype": "text/x-python",
   "name": "python",
   "nbconvert_exporter": "python",
   "pygments_lexer": "ipython3",
   "version": "3.10.9"
  }
 },
 "nbformat": 4,
 "nbformat_minor": 5
}
