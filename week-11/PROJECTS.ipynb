{
 "cells": [
  {
   "cell_type": "code",
   "execution_count": 51,
   "id": "640e33f5",
   "metadata": {},
   "outputs": [
    {
     "ename": "NameError",
     "evalue": "name 'num' is not defined",
     "output_type": "error",
     "traceback": [
      "\u001b[1;31m---------------------------------------------------------------------------\u001b[0m",
      "\u001b[1;31mNameError\u001b[0m                                 Traceback (most recent call last)",
      "Cell \u001b[1;32mIn[51], line 20\u001b[0m\n\u001b[0;32m     17\u001b[0m     \u001b[38;5;28;01mwhile\u001b[39;00m calc() \u001b[38;5;241m==\u001b[39m \u001b[38;5;28;01mFalse\u001b[39;00m:\n\u001b[0;32m     18\u001b[0m         \u001b[38;5;28mprint\u001b[39m(\u001b[38;5;124m\"\u001b[39m\u001b[38;5;124mSorry we do not have that many oranges,input another number\u001b[39m\u001b[38;5;124m\"\u001b[39m)\n\u001b[1;32m---> 20\u001b[0m org \u001b[38;5;241m=\u001b[39m oranges(\u001b[43mnum\u001b[49m)\n\u001b[0;32m     21\u001b[0m org\u001b[38;5;241m.\u001b[39mcost()\n",
      "\u001b[1;31mNameError\u001b[0m: name 'num' is not defined"
     ]
    }
   ],
   "source": [
    "#Project 1\n",
    "class oranges():\n",
    "    def __init__(self,number):\n",
    "        self.number = number \n",
    "    def cost(self):\n",
    "        price = 200 \n",
    "        print(f\"Your total cost is :\",{price * selfnumber})\n",
    "    \n",
    "stock_quantity = 20\n",
    "def calc():\n",
    "    global num\n",
    "    num = int(input(\"How many oranges do you want?\"))\n",
    "    if num <= stock_quantity:\n",
    "        return True\n",
    "    else:\n",
    "         return False\n",
    "    while calc() == False:\n",
    "        print(\"Sorry we do not have that many oranges,input another number\")\n",
    "            \n",
    "org = oranges(num)\n",
    "org.cost()\n",
    "            \n",
    "    \n",
    "  "
   ]
  },
  {
   "cell_type": "code",
   "execution_count": 46,
   "id": "d4f5c826",
   "metadata": {},
   "outputs": [
    {
     "ename": "KeyboardInterrupt",
     "evalue": "Interrupted by user",
     "output_type": "error",
     "traceback": [
      "\u001b[1;31m---------------------------------------------------------------------------\u001b[0m",
      "\u001b[1;31mKeyboardInterrupt\u001b[0m                         Traceback (most recent call last)",
      "Cell \u001b[1;32mIn[46], line 33\u001b[0m\n\u001b[0;32m     30\u001b[0m         calc_cy \u001b[38;5;241m=\u001b[39m \u001b[38;5;241m22\u001b[39m\u001b[38;5;241m/\u001b[39m\u001b[38;5;241m7\u001b[39m \u001b[38;5;241m*\u001b[39m radius \u001b[38;5;241m*\u001b[39m height\n\u001b[0;32m     31\u001b[0m         \u001b[38;5;28mprint\u001b[39m(\u001b[38;5;124m\"\u001b[39m\u001b[38;5;124mThe answer is:\u001b[39m\u001b[38;5;124m\"\u001b[39m,calc_cy)\n\u001b[1;32m---> 33\u001b[0m calculation \u001b[38;5;241m=\u001b[39m \u001b[38;5;28;43minput\u001b[39;49m\u001b[43m(\u001b[49m\u001b[38;5;124;43m\"\u001b[39;49m\u001b[38;5;124;43mEnter the formula you want among : trapezium,rhombus,parallelogram ,cube and cylinder: \u001b[39;49m\u001b[38;5;124;43m\"\u001b[39;49m\u001b[43m)\u001b[49m\n\u001b[0;32m     34\u001b[0m mth \u001b[38;5;241m=\u001b[39m math_formula()\n\u001b[0;32m     35\u001b[0m \u001b[38;5;28;01mif\u001b[39;00m calculation \u001b[38;5;241m==\u001b[39m \u001b[38;5;124m\"\u001b[39m\u001b[38;5;124mTrapezium\u001b[39m\u001b[38;5;124m\"\u001b[39m:\n",
      "File \u001b[1;32m~\\Documents\\ope.ashirucsc102\\lib\\site-packages\\ipykernel\\kernelbase.py:1175\u001b[0m, in \u001b[0;36mKernel.raw_input\u001b[1;34m(self, prompt)\u001b[0m\n\u001b[0;32m   1171\u001b[0m \u001b[38;5;28;01mif\u001b[39;00m \u001b[38;5;129;01mnot\u001b[39;00m \u001b[38;5;28mself\u001b[39m\u001b[38;5;241m.\u001b[39m_allow_stdin:\n\u001b[0;32m   1172\u001b[0m     \u001b[38;5;28;01mraise\u001b[39;00m StdinNotImplementedError(\n\u001b[0;32m   1173\u001b[0m         \u001b[38;5;124m\"\u001b[39m\u001b[38;5;124mraw_input was called, but this frontend does not support input requests.\u001b[39m\u001b[38;5;124m\"\u001b[39m\n\u001b[0;32m   1174\u001b[0m     )\n\u001b[1;32m-> 1175\u001b[0m \u001b[38;5;28;01mreturn\u001b[39;00m \u001b[38;5;28;43mself\u001b[39;49m\u001b[38;5;241;43m.\u001b[39;49m\u001b[43m_input_request\u001b[49m\u001b[43m(\u001b[49m\n\u001b[0;32m   1176\u001b[0m \u001b[43m    \u001b[49m\u001b[38;5;28;43mstr\u001b[39;49m\u001b[43m(\u001b[49m\u001b[43mprompt\u001b[49m\u001b[43m)\u001b[49m\u001b[43m,\u001b[49m\n\u001b[0;32m   1177\u001b[0m \u001b[43m    \u001b[49m\u001b[38;5;28;43mself\u001b[39;49m\u001b[38;5;241;43m.\u001b[39;49m\u001b[43m_parent_ident\u001b[49m\u001b[43m[\u001b[49m\u001b[38;5;124;43m\"\u001b[39;49m\u001b[38;5;124;43mshell\u001b[39;49m\u001b[38;5;124;43m\"\u001b[39;49m\u001b[43m]\u001b[49m\u001b[43m,\u001b[49m\n\u001b[0;32m   1178\u001b[0m \u001b[43m    \u001b[49m\u001b[38;5;28;43mself\u001b[39;49m\u001b[38;5;241;43m.\u001b[39;49m\u001b[43mget_parent\u001b[49m\u001b[43m(\u001b[49m\u001b[38;5;124;43m\"\u001b[39;49m\u001b[38;5;124;43mshell\u001b[39;49m\u001b[38;5;124;43m\"\u001b[39;49m\u001b[43m)\u001b[49m\u001b[43m,\u001b[49m\n\u001b[0;32m   1179\u001b[0m \u001b[43m    \u001b[49m\u001b[43mpassword\u001b[49m\u001b[38;5;241;43m=\u001b[39;49m\u001b[38;5;28;43;01mFalse\u001b[39;49;00m\u001b[43m,\u001b[49m\n\u001b[0;32m   1180\u001b[0m \u001b[43m\u001b[49m\u001b[43m)\u001b[49m\n",
      "File \u001b[1;32m~\\Documents\\ope.ashirucsc102\\lib\\site-packages\\ipykernel\\kernelbase.py:1217\u001b[0m, in \u001b[0;36mKernel._input_request\u001b[1;34m(self, prompt, ident, parent, password)\u001b[0m\n\u001b[0;32m   1214\u001b[0m             \u001b[38;5;28;01mbreak\u001b[39;00m\n\u001b[0;32m   1215\u001b[0m \u001b[38;5;28;01mexcept\u001b[39;00m \u001b[38;5;167;01mKeyboardInterrupt\u001b[39;00m:\n\u001b[0;32m   1216\u001b[0m     \u001b[38;5;66;03m# re-raise KeyboardInterrupt, to truncate traceback\u001b[39;00m\n\u001b[1;32m-> 1217\u001b[0m     \u001b[38;5;28;01mraise\u001b[39;00m \u001b[38;5;167;01mKeyboardInterrupt\u001b[39;00m(\u001b[38;5;124m\"\u001b[39m\u001b[38;5;124mInterrupted by user\u001b[39m\u001b[38;5;124m\"\u001b[39m) \u001b[38;5;28;01mfrom\u001b[39;00m \u001b[38;5;28mNone\u001b[39m\n\u001b[0;32m   1218\u001b[0m \u001b[38;5;28;01mexcept\u001b[39;00m \u001b[38;5;167;01mException\u001b[39;00m:\n\u001b[0;32m   1219\u001b[0m     \u001b[38;5;28mself\u001b[39m\u001b[38;5;241m.\u001b[39mlog\u001b[38;5;241m.\u001b[39mwarning(\u001b[38;5;124m\"\u001b[39m\u001b[38;5;124mInvalid Message:\u001b[39m\u001b[38;5;124m\"\u001b[39m, exc_info\u001b[38;5;241m=\u001b[39m\u001b[38;5;28;01mTrue\u001b[39;00m)\n",
      "\u001b[1;31mKeyboardInterrupt\u001b[0m: Interrupted by user"
     ]
    }
   ],
   "source": [
    "#Project 2 \n",
    "class math_formula():\n",
    "    def trapezium_f(self):\n",
    "        height = int(input(\"Enter the height: \"))\n",
    "        base1 = int(input(\"Enter the first base: \"))\n",
    "        base2 = int(input(\"Enter the second base: \"))\n",
    "        calc_t = height/2 * (base1 + base2)\n",
    "        print(\"The answer is:\",calc_t)\n",
    "        \n",
    "    def rhombus_f(self):\n",
    "        diagonal1 = int(input(\"Enter the first diagonal: \"))\n",
    "        diagonal2 = int(input(\"Enter the second diagonal: \"))\n",
    "        calc_r = 0.5 * diagonal1 * diagonal2\n",
    "        print(\"The answer is:\",calc_r)\n",
    "        \n",
    "    def parallelogram_f(self):\n",
    "        base = int(input(\"Enter the base: \"))\n",
    "        altitude = int(input(\"Enter the altitude: \"))\n",
    "        calc_p = base * altitude\n",
    "        print(\"The answer is:\",calc_p)\n",
    "        \n",
    "    def cube_f(self):\n",
    "        length = int(input(\"Enter the length: \"))\n",
    "        calc_c = 6 * (length)^2\n",
    "        print(\"The answer is:\",calc_c)\n",
    "        \n",
    "    def cylinder_f(self):\n",
    "        radius = int(input(\"Enter the radius: \"))\n",
    "        height = int(input(\"Enter the height: \"))\n",
    "        calc_cy = 22/7 * radius * height\n",
    "        print(\"The answer is:\",calc_cy)\n",
    "        \n",
    "calculation = input(\"Enter the formula you want among : trapezium,rhombus,parallelogram ,cube and cylinder: \")\n",
    "mth = math_formula()\n",
    "if calculation == \"Trapezium\":\n",
    "    mth.trapezium_f()\n",
    "elif calculation == \"Rhombus\":\n",
    "    mth.rhombus_f()\n",
    "elif calculation == \"Parallelogram\":\n",
    "    mth.parallelogram_f()\n",
    "elif calculation == \"Cube\":\n",
    "    mth.cube_f()\n",
    "elif calculation == \"Cylinder\":\n",
    "    mth.cylinder_f()\n",
    "else:\n",
    "    print(\"Invalid data\")"
   ]
  },
  {
   "cell_type": "code",
   "execution_count": 40,
   "id": "c8731a6d",
   "metadata": {},
   "outputs": [
    {
     "name": "stdout",
     "output_type": "stream",
     "text": [
      "Welcome to Nigerian Breweries, Would you like to see our file?No\n",
      "OK, Have a good day \n"
     ]
    }
   ],
   "source": [
    "#Project 3\n",
    "class nig_breweries():\n",
    "    \n",
    "    def __init__(self):\n",
    "        pass\n",
    "    def file (self):\n",
    "        import pandas as pd\n",
    "        brew = {\"Lager\":[\"33 Export\",\"Desperados\",\"Goldberg\",\"Gulder\",\"Heineken\",\"Star\"],\n",
    "               \"Stout\":[\"Legend\",\"Turbo King\",\"Williams\",\"\",\"\",\"\"], \n",
    "                \"Non - Alcoholic\":[\"Maltina\",\"Amstel Malta\",\"Malta Gold\",\"Fayrouz\",\"\",\"\"]}\n",
    "        df = pd.DataFrame(brew)\n",
    "        df.to_csv('brew')\n",
    "        print(\"File created\")\n",
    "    \n",
    "        \n",
    "welc = input(\"Welcome to Nigerian Breweries, Would you like to see our file?\")\n",
    "nbp = nig_breweries()\n",
    "if welc == \"Yes\":\n",
    "    nbp.file()\n",
    "else:\n",
    "    print(\"OK, Have a good day \")\n",
    "    "
   ]
  },
  {
   "cell_type": "code",
   "execution_count": null,
   "id": "eb398394",
   "metadata": {},
   "outputs": [],
   "source": []
  }
 ],
 "metadata": {
  "kernelspec": {
   "display_name": "Python 3 (ipykernel)",
   "language": "python",
   "name": "python3"
  },
  "language_info": {
   "codemirror_mode": {
    "name": "ipython",
    "version": 3
   },
   "file_extension": ".py",
   "mimetype": "text/x-python",
   "name": "python",
   "nbconvert_exporter": "python",
   "pygments_lexer": "ipython3",
   "version": "3.10.9"
  }
 },
 "nbformat": 4,
 "nbformat_minor": 5
}
