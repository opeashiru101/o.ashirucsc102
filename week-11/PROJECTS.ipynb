{
 "cells": [
  {
   "cell_type": "code",
   "execution_count": 51,
   "id": "640e33f5",
   "metadata": {},
   "outputs": [
    {
     "ename": "NameError",
     "evalue": "name 'num' is not defined",
     "output_type": "error",
     "traceback": [
      "\u001b[1;31m---------------------------------------------------------------------------\u001b[0m",
      "\u001b[1;31mNameError\u001b[0m                                 Traceback (most recent call last)",
      "Cell \u001b[1;32mIn[51], line 20\u001b[0m\n\u001b[0;32m     17\u001b[0m     \u001b[38;5;28;01mwhile\u001b[39;00m calc() \u001b[38;5;241m==\u001b[39m \u001b[38;5;28;01mFalse\u001b[39;00m:\n\u001b[0;32m     18\u001b[0m         \u001b[38;5;28mprint\u001b[39m(\u001b[38;5;124m\"\u001b[39m\u001b[38;5;124mSorry we do not have that many oranges,input another number\u001b[39m\u001b[38;5;124m\"\u001b[39m)\n\u001b[1;32m---> 20\u001b[0m org \u001b[38;5;241m=\u001b[39m oranges(\u001b[43mnum\u001b[49m)\n\u001b[0;32m     21\u001b[0m org\u001b[38;5;241m.\u001b[39mcost()\n",
      "\u001b[1;31mNameError\u001b[0m: name 'num' is not defined"
     ]
    }
   ],
   "source": [
    "#Project 1\n",
    "class oranges():\n",
    "    def __init__(self,number):\n",
    "        self.number = number \n",
    "    def cost(self):\n",
    "        price = 200 \n",
    "        print(f\"Your total cost is :\",{price * selfnumber})\n",
    "    \n",
    "stock_quantity = 20\n",
    "def calc():\n",
    "    global num\n",
    "    num = int(input(\"How many oranges do you want?\"))\n",
    "    if num <= stock_quantity:\n",
    "        return True\n",
    "    else:\n",
    "         return False\n",
    "    while calc() == False:\n",
    "        print(\"Sorry we do not have that many oranges,input another number\")\n",
    "            \n",
    "org = oranges(num)\n",
    "org.cost()\n",
    "            \n",
    "    \n",
    "  "
   ]
  },
  {
   "cell_type": "code",
   "execution_count": 1,
   "id": "d4f5c826",
   "metadata": {},
   "outputs": [
    {
     "name": "stdout",
     "output_type": "stream",
     "text": [
      "Enter the formula you want among : trapezium,rhombus,parallelogram ,cube and cylinder: Trapezium\n",
      "Enter the height: 8\n",
      "Enter the first base: 0\n",
      "Enter the second base: 7\n",
      "The answer is: 28.0\n"
     ]
    }
   ],
   "source": [
    "#Project 2 \n",
    "class math_formula():\n",
    "    def trapezium_f(self):\n",
    "        height = int(input(\"Enter the height: \"))\n",
    "        base1 = int(input(\"Enter the first base: \"))\n",
    "        base2 = int(input(\"Enter the second base: \"))\n",
    "        calc_t = height/2 * (base1 + base2)\n",
    "        print(\"The answer is:\",calc_t)\n",
    "        \n",
    "    def rhombus_f(self):\n",
    "        diagonal1 = int(input(\"Enter the first diagonal: \"))\n",
    "        diagonal2 = int(input(\"Enter the second diagonal: \"))\n",
    "        calc_r = 0.5 * diagonal1 * diagonal2\n",
    "        print(\"The answer is:\",calc_r)\n",
    "        \n",
    "    def parallelogram_f(self):\n",
    "        base = int(input(\"Enter the base: \"))\n",
    "        altitude = int(input(\"Enter the altitude: \"))\n",
    "        calc_p = base * altitude\n",
    "        print(\"The answer is:\",calc_p)\n",
    "        \n",
    "    def cube_f(self):\n",
    "        length = int(input(\"Enter the length: \"))\n",
    "        calc_c = 6 * (length)^2\n",
    "        print(\"The answer is:\",calc_c)\n",
    "        \n",
    "    def cylinder_f(self):\n",
    "        radius = int(input(\"Enter the radius: \"))\n",
    "        height = int(input(\"Enter the height: \"))\n",
    "        calc_cy = 22/7 * radius * height\n",
    "        print(\"The answer is:\",calc_cy)\n",
    "        \n",
    "calculation = input(\"Enter the formula you want among : trapezium,rhombus,parallelogram ,cube and cylinder: \")\n",
    "mth = math_formula()\n",
    "if calculation == \"Trapezium\":\n",
    "    mth.trapezium_f()\n",
    "elif calculation == \"Rhombus\":\n",
    "    mth.rhombus_f()\n",
    "elif calculation == \"Parallelogram\":\n",
    "    mth.parallelogram_f()\n",
    "elif calculation == \"Cube\":\n",
    "    mth.cube_f()\n",
    "elif calculation == \"Cylinder\":\n",
    "    mth.cylinder_f()\n",
    "else:\n",
    "    print(\"Invalid data\")"
   ]
  },
  {
   "cell_type": "code",
   "execution_count": 5,
   "id": "c8731a6d",
   "metadata": {},
   "outputs": [
    {
     "name": "stdout",
     "output_type": "stream",
     "text": [
      "Welcome to Nigerian Breweries, Would you like to see our file?Yes\n",
      "File created\n",
      "        Lager       Stout Non - Alcoholic\n",
      "0   33 Export      Legend         Maltina\n",
      "1  Desperados  Turbo King    Amstel Malta\n",
      "2    Goldberg    Williams      Malta Gold\n",
      "3      Gulder                     Fayrouz\n",
      "4    Heineken                            \n",
      "5        Star                            \n"
     ]
    }
   ],
   "source": [
    "#Project 3\n",
    "import pandas as pd\n",
    "class nig_breweries():\n",
    "    \n",
    "    def __init__(self):\n",
    "        pass\n",
    "    def file (self):\n",
    "    \n",
    "        brew = {\"Lager\":[\"33 Export\",\"Desperados\",\"Goldberg\",\"Gulder\",\"Heineken\",\"Star\"],\n",
    "               \"Stout\":[\"Legend\",\"Turbo King\",\"Williams\",\"\",\"\",\"\"], \n",
    "                \"Non - Alcoholic\":[\"Maltina\",\"Amstel Malta\",\"Malta Gold\",\"Fayrouz\",\"\",\"\"]}\n",
    "        df = pd.DataFrame(brew)\n",
    "        print(\"File created\")\n",
    "        print(df)\n",
    "    \n",
    "        \n",
    "welc = input(\"Welcome to Nigerian Breweries, Would you like to see our file?\")\n",
    "nbp = nig_breweries()\n",
    "if welc == \"Yes\":\n",
    "    nbp.file()\n",
    "else:\n",
    "    print(\"OK, Have a good day \")\n",
    "    "
   ]
  },
  {
   "cell_type": "code",
   "execution_count": null,
   "id": "eb398394",
   "metadata": {},
   "outputs": [],
   "source": []
  }
 ],
 "metadata": {
  "kernelspec": {
   "display_name": "Python 3 (ipykernel)",
   "language": "python",
   "name": "python3"
  },
  "language_info": {
   "codemirror_mode": {
    "name": "ipython",
    "version": 3
   },
   "file_extension": ".py",
   "mimetype": "text/x-python",
   "name": "python",
   "nbconvert_exporter": "python",
   "pygments_lexer": "ipython3",
   "version": "3.10.9"
  }
 },
 "nbformat": 4,
 "nbformat_minor": 5
}
