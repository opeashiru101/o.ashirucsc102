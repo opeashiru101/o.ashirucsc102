{
 "cells": [
  {
   "cell_type": "code",
   "execution_count": 4,
   "id": "3ba1c62d-5918-4992-b461-7193efe529cf",
   "metadata": {},
   "outputs": [
    {
     "name": "stdout",
     "output_type": "stream",
     "text": [
      "7200.0\n"
     ]
    }
   ],
   "source": [
    "#Simple interest\n",
    "p = 6000\n",
    "r = 5\n",
    "t = 4\n",
    "A = p * ( 1 + (r/100)*t)\n",
    "print(A)\n"
   ]
  },
  {
   "cell_type": "code",
   "execution_count": 16,
   "id": "f5ae93d5-01b6-46df-89b3-4748ff45bd84",
   "metadata": {},
   "outputs": [
    {
     "name": "stdout",
     "output_type": "stream",
     "text": [
      "5467500.0\n"
     ]
    }
   ],
   "source": [
    "#Compound interest\n",
    "p = 7500\n",
    "r = 6\n",
    "t = 2\n",
    "n = 3\n",
    "A = p * (1 +(r/n)) ** (n * t) \n",
    "print(A)"
   ]
  },
  {
   "cell_type": "code",
   "execution_count": 23,
   "id": "35137573-f087-4808-88d3-6641f3b84b49",
   "metadata": {},
   "outputs": [
    {
     "name": "stdout",
     "output_type": "stream",
     "text": [
      "4272947200.0\n"
     ]
    }
   ],
   "source": [
    "#Annuity plan\n",
    "pmt = 8150\n",
    "r   = 10\n",
    "n   = 5\n",
    "t   = 4\n",
    "A   = pmt * ( ( 1 + (r/n) ** (n*t) ) - 1 ) / (r/n)\n",
    "print(A)"
   ]
  },
  {
   "cell_type": "code",
   "execution_count": null,
   "id": "5ca7bea8-da5d-41dc-ad7a-b4c12dc812bd",
   "metadata": {},
   "outputs": [],
   "source": []
  }
 ],
 "metadata": {
  "kernelspec": {
   "display_name": "Python 3 (ipykernel)",
   "language": "python",
   "name": "python3"
  },
  "language_info": {
   "codemirror_mode": {
    "name": "ipython",
    "version": 3
   },
   "file_extension": ".py",
   "mimetype": "text/x-python",
   "name": "python",
   "nbconvert_exporter": "python",
   "pygments_lexer": "ipython3",
   "version": "3.10.9"
  }
 },
 "nbformat": 4,
 "nbformat_minor": 5
}
